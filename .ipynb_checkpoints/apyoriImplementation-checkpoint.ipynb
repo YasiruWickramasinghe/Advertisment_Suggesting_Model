{
 "cells": [
  {
   "cell_type": "markdown",
   "id": "52d6725a",
   "metadata": {},
   "source": [
    "# Import libraries"
   ]
  },
  {
   "cell_type": "code",
   "execution_count": 9,
   "id": "signal-mills",
   "metadata": {},
   "outputs": [],
   "source": [
    "from apyori import apriori\n",
    "from apyori import load_transactions\n",
    "import pickle\n",
    "import time"
   ]
  },
  {
   "cell_type": "markdown",
   "id": "44c2da5a",
   "metadata": {},
   "source": [
    "# Rule mining"
   ]
  },
  {
   "cell_type": "code",
   "execution_count": 10,
   "id": "unique-cooperative",
   "metadata": {},
   "outputs": [],
   "source": [
    "association_rules = [] \n",
    "AssociationRulesDictionary = {} # holds final output\n",
    "with open('tranProcessed.csv') as fileObj:\n",
    "\n",
    "            transactions = list(load_transactions(fileObj, delimiter=\",\"))\n",
    "\n",
    "            # remove empty strings if any\n",
    "            transactions_filtered = []\n",
    "            for li in transactions:\n",
    "                li = list(filter(None, li))\n",
    "                transactions_filtered.append(li)\n",
    "\n",
    "            association_rules = apriori(transactions_filtered, min_support=0.01, min_confidence=0.01, min_lift=1.0,\n",
    "                                        max_length=None)\n",
    "           "
   ]
  },
  {
   "cell_type": "markdown",
   "id": "geological-maria",
   "metadata": {},
   "source": [
    "# extractRules"
   ]
  },
  {
   "cell_type": "code",
   "execution_count": 11,
   "id": "humanitarian-headline",
   "metadata": {},
   "outputs": [
    {
     "name": "stdout",
     "output_type": "stream",
     "text": [
      "--- 634.908215045929 seconds ---\n"
     ]
    }
   ],
   "source": [
    "start = time.time()\n",
    "for item in association_rules:\n",
    "            # first index of the inner list\n",
    "#     print(item)        # Contains base item and add item\n",
    "    if len(item[0]) < 2:\n",
    "        continue\n",
    "            \n",
    "    for k in item[2]:\n",
    "#         print(k)\n",
    "        baseItemList = list(k[0])\n",
    "                # if base item set is empty then go to the next record.\n",
    "        if not baseItemList:\n",
    "            continue\n",
    "\n",
    "                # sort the baseItemList before adding it as a key to the AssociationRules dictionary\n",
    "        baseItemList.sort()\n",
    "        baseItemList_key = tuple(baseItemList)\n",
    "\n",
    "        if baseItemList_key not in AssociationRulesDictionary.keys():\n",
    "            AssociationRulesDictionary[baseItemList_key] = []\n",
    "\n",
    "        AssociationRulesDictionary[baseItemList_key].append((list(k[1]), k[3]))\n",
    "          \n",
    "\n",
    "        # sort the rules in descending order of lift values.\n",
    "for ruleList in AssociationRulesDictionary:\n",
    "    AssociationRulesDictionary[ruleList].sort(key=lambda x: x[1], reverse=True)\n",
    "print(\"--- %s seconds ---\" % (time.time() - start))"
   ]
  },
  {
   "cell_type": "code",
   "execution_count": 12,
   "id": "major-objective",
   "metadata": {},
   "outputs": [],
   "source": [
    "# print(AssociationRulesDictionary)"
   ]
  },
  {
   "cell_type": "code",
   "execution_count": 16,
   "id": "meaning-tribune",
   "metadata": {},
   "outputs": [],
   "source": [
    "with open('model.txt', 'wb') as handle:\n",
    "    pickle.dump(AssociationRulesDictionary, handle)"
   ]
  },
  {
   "cell_type": "markdown",
   "id": "adapted-control",
   "metadata": {},
   "source": [
    "# From saved models"
   ]
  },
  {
   "cell_type": "code",
   "execution_count": 17,
   "id": "thermal-punch",
   "metadata": {},
   "outputs": [],
   "source": [
    "# ['Seeni Rathu','Kaha  Kudu','Paripipu  No.2 ','Sudu Kekulu  Hal','Miris  Kudu','Thuna Paha KUdu Bedapu']\n",
    "import pickle\n",
    "# itemList=['Seeni Rathu','Kaha  Kudu','Paripipu  No.2 ']\n",
    "itemList=['Seeni Rathu']\n",
    "with open('model.txt', 'rb') as handle:\n",
    "    b = pickle.loads(handle.read())\n",
    "# print(b)"
   ]
  },
  {
   "cell_type": "code",
   "execution_count": 18,
   "id": "dense-aside",
   "metadata": {},
   "outputs": [
    {
     "name": "stdout",
     "output_type": "stream",
     "text": [
      "('Seeni Rathu',)\n",
      "[(['Gammiris  Kudu'], 1.0)]\n"
     ]
    }
   ],
   "source": [
    "itemList.sort()\n",
    "itemTuple = tuple(itemList)\n",
    "print(itemTuple)\n",
    "if itemTuple not in b.keys():\n",
    "    recommendations=[]\n",
    "\n",
    "recommendations=b[itemTuple][:1]\n",
    "print(recommendations)\n"
   ]
  },
  {
   "cell_type": "code",
   "execution_count": null,
   "id": "technological-practitioner",
   "metadata": {},
   "outputs": [],
   "source": []
  }
 ],
 "metadata": {
  "kernelspec": {
   "display_name": "Python 3 (ipykernel)",
   "language": "python",
   "name": "python3"
  },
  "language_info": {
   "codemirror_mode": {
    "name": "ipython",
    "version": 3
   },
   "file_extension": ".py",
   "mimetype": "text/x-python",
   "name": "python",
   "nbconvert_exporter": "python",
   "pygments_lexer": "ipython3",
   "version": "3.7.13"
  }
 },
 "nbformat": 4,
 "nbformat_minor": 5
}
