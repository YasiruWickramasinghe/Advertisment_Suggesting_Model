{
 "cells": [
  {
   "cell_type": "markdown",
   "id": "52d6725a",
   "metadata": {},
   "source": [
    "# Import libraries"
   ]
  },
  {
   "cell_type": "code",
   "execution_count": 1,
   "id": "signal-mills",
   "metadata": {},
   "outputs": [],
   "source": [
    "from apyori import apriori\n",
    "from apyori import load_transactions\n",
    "import pickle\n",
    "import time"
   ]
  },
  {
   "cell_type": "markdown",
   "id": "44c2da5a",
   "metadata": {},
   "source": [
    "# Rule mining"
   ]
  },
  {
   "cell_type": "code",
   "execution_count": 2,
   "id": "unique-cooperative",
   "metadata": {},
   "outputs": [],
   "source": [
    "association_rules = [] \n",
    "AssociationRulesDictionary = {} # holds final output\n",
    "with open('tranProcessed.csv') as fileObj:\n",
    "\n",
    "            transactions = list(load_transactions(fileObj, delimiter=\",\"))\n",
    "\n",
    "            # remove empty strings if any\n",
    "            transactions_filtered = []\n",
    "            for li in transactions:\n",
    "                li = list(filter(None, li))\n",
    "                transactions_filtered.append(li)\n",
    "\n",
    "            association_rules = apriori(transactions_filtered, min_support=0.01, min_confidence=0.01, min_lift=1.0,\n",
    "                                        max_length=None)\n",
    "           "
   ]
  },
  {
   "cell_type": "markdown",
   "id": "geological-maria",
   "metadata": {},
   "source": [
    "# extractRules"
   ]
  },
  {
   "cell_type": "code",
   "execution_count": 3,
   "id": "humanitarian-headline",
   "metadata": {},
   "outputs": [
    {
     "ename": "KeyboardInterrupt",
     "evalue": "",
     "output_type": "error",
     "traceback": [
      "\u001b[1;31m---------------------------------------------------------------------------\u001b[0m",
      "\u001b[1;31mKeyboardInterrupt\u001b[0m                         Traceback (most recent call last)",
      "\u001b[1;32m~\\AppData\\Local\\Temp/ipykernel_2300/3592174552.py\u001b[0m in \u001b[0;36m<module>\u001b[1;34m\u001b[0m\n\u001b[0;32m      1\u001b[0m \u001b[0mstart\u001b[0m \u001b[1;33m=\u001b[0m \u001b[0mtime\u001b[0m\u001b[1;33m.\u001b[0m\u001b[0mtime\u001b[0m\u001b[1;33m(\u001b[0m\u001b[1;33m)\u001b[0m\u001b[1;33m\u001b[0m\u001b[1;33m\u001b[0m\u001b[0m\n\u001b[1;32m----> 2\u001b[1;33m \u001b[1;32mfor\u001b[0m \u001b[0mitem\u001b[0m \u001b[1;32min\u001b[0m \u001b[0massociation_rules\u001b[0m\u001b[1;33m:\u001b[0m\u001b[1;33m\u001b[0m\u001b[1;33m\u001b[0m\u001b[0m\n\u001b[0m\u001b[0;32m      3\u001b[0m             \u001b[1;31m# first index of the inner list\u001b[0m\u001b[1;33m\u001b[0m\u001b[1;33m\u001b[0m\u001b[1;33m\u001b[0m\u001b[0m\n\u001b[0;32m      4\u001b[0m \u001b[1;31m#     print(item)        # Contains base item and add item\u001b[0m\u001b[1;33m\u001b[0m\u001b[1;33m\u001b[0m\u001b[1;33m\u001b[0m\u001b[0m\n\u001b[0;32m      5\u001b[0m     \u001b[1;32mif\u001b[0m \u001b[0mlen\u001b[0m\u001b[1;33m(\u001b[0m\u001b[0mitem\u001b[0m\u001b[1;33m[\u001b[0m\u001b[1;36m0\u001b[0m\u001b[1;33m]\u001b[0m\u001b[1;33m)\u001b[0m \u001b[1;33m<\u001b[0m \u001b[1;36m2\u001b[0m\u001b[1;33m:\u001b[0m\u001b[1;33m\u001b[0m\u001b[1;33m\u001b[0m\u001b[0m\n",
      "\u001b[1;32mC:\\ProgramData\\Anaconda3\\envs\\foods\\lib\\site-packages\\apyori.py\u001b[0m in \u001b[0;36mapriori\u001b[1;34m(transactions, **kwargs)\u001b[0m\n\u001b[0;32m    289\u001b[0m                 \u001b[0m_gen_ordered_statistics\u001b[0m\u001b[1;33m(\u001b[0m\u001b[0mtransaction_manager\u001b[0m\u001b[1;33m,\u001b[0m \u001b[0msupport_record\u001b[0m\u001b[1;33m)\u001b[0m\u001b[1;33m,\u001b[0m\u001b[1;33m\u001b[0m\u001b[1;33m\u001b[0m\u001b[0m\n\u001b[0;32m    290\u001b[0m                 \u001b[0mmin_confidence\u001b[0m\u001b[1;33m=\u001b[0m\u001b[0mmin_confidence\u001b[0m\u001b[1;33m,\u001b[0m\u001b[1;33m\u001b[0m\u001b[1;33m\u001b[0m\u001b[0m\n\u001b[1;32m--> 291\u001b[1;33m                 \u001b[0mmin_lift\u001b[0m\u001b[1;33m=\u001b[0m\u001b[0mmin_lift\u001b[0m\u001b[1;33m,\u001b[0m\u001b[1;33m\u001b[0m\u001b[1;33m\u001b[0m\u001b[0m\n\u001b[0m\u001b[0;32m    292\u001b[0m             )\n\u001b[0;32m    293\u001b[0m         )\n",
      "\u001b[1;32mC:\\ProgramData\\Anaconda3\\envs\\foods\\lib\\site-packages\\apyori.py\u001b[0m in \u001b[0;36mfilter_ordered_statistics\u001b[1;34m(ordered_statistics, **kwargs)\u001b[0m\n\u001b[0;32m    235\u001b[0m     \u001b[0mmin_lift\u001b[0m \u001b[1;33m=\u001b[0m \u001b[0mkwargs\u001b[0m\u001b[1;33m.\u001b[0m\u001b[0mget\u001b[0m\u001b[1;33m(\u001b[0m\u001b[1;34m'min_lift'\u001b[0m\u001b[1;33m,\u001b[0m \u001b[1;36m0.0\u001b[0m\u001b[1;33m)\u001b[0m\u001b[1;33m\u001b[0m\u001b[1;33m\u001b[0m\u001b[0m\n\u001b[0;32m    236\u001b[0m \u001b[1;33m\u001b[0m\u001b[0m\n\u001b[1;32m--> 237\u001b[1;33m     \u001b[1;32mfor\u001b[0m \u001b[0mordered_statistic\u001b[0m \u001b[1;32min\u001b[0m \u001b[0mordered_statistics\u001b[0m\u001b[1;33m:\u001b[0m\u001b[1;33m\u001b[0m\u001b[1;33m\u001b[0m\u001b[0m\n\u001b[0m\u001b[0;32m    238\u001b[0m         \u001b[1;32mif\u001b[0m \u001b[0mordered_statistic\u001b[0m\u001b[1;33m.\u001b[0m\u001b[0mconfidence\u001b[0m \u001b[1;33m<\u001b[0m \u001b[0mmin_confidence\u001b[0m\u001b[1;33m:\u001b[0m\u001b[1;33m\u001b[0m\u001b[1;33m\u001b[0m\u001b[0m\n\u001b[0;32m    239\u001b[0m             \u001b[1;32mcontinue\u001b[0m\u001b[1;33m\u001b[0m\u001b[1;33m\u001b[0m\u001b[0m\n",
      "\u001b[1;32mC:\\ProgramData\\Anaconda3\\envs\\foods\\lib\\site-packages\\apyori.py\u001b[0m in \u001b[0;36mgen_ordered_statistics\u001b[1;34m(transaction_manager, record)\u001b[0m\n\u001b[0;32m    216\u001b[0m             confidence = (\n\u001b[0;32m    217\u001b[0m                 record.support / transaction_manager.calc_support(items_base))\n\u001b[1;32m--> 218\u001b[1;33m             \u001b[0mlift\u001b[0m \u001b[1;33m=\u001b[0m \u001b[0mconfidence\u001b[0m \u001b[1;33m/\u001b[0m \u001b[0mtransaction_manager\u001b[0m\u001b[1;33m.\u001b[0m\u001b[0mcalc_support\u001b[0m\u001b[1;33m(\u001b[0m\u001b[0mitems_add\u001b[0m\u001b[1;33m)\u001b[0m\u001b[1;33m\u001b[0m\u001b[1;33m\u001b[0m\u001b[0m\n\u001b[0m\u001b[0;32m    219\u001b[0m             yield OrderedStatistic(\n\u001b[0;32m    220\u001b[0m                 frozenset(items_base), frozenset(items_add), confidence, lift)\n",
      "\u001b[1;32mC:\\ProgramData\\Anaconda3\\envs\\foods\\lib\\site-packages\\apyori.py\u001b[0m in \u001b[0;36mcalc_support\u001b[1;34m(self, items)\u001b[0m\n\u001b[0;32m     86\u001b[0m             \u001b[1;32melse\u001b[0m\u001b[1;33m:\u001b[0m\u001b[1;33m\u001b[0m\u001b[1;33m\u001b[0m\u001b[0m\n\u001b[0;32m     87\u001b[0m                 \u001b[1;31m# Calculate the intersection on not the first time.\u001b[0m\u001b[1;33m\u001b[0m\u001b[1;33m\u001b[0m\u001b[1;33m\u001b[0m\u001b[0m\n\u001b[1;32m---> 88\u001b[1;33m                 \u001b[0msum_indexes\u001b[0m \u001b[1;33m=\u001b[0m \u001b[0msum_indexes\u001b[0m\u001b[1;33m.\u001b[0m\u001b[0mintersection\u001b[0m\u001b[1;33m(\u001b[0m\u001b[0mindexes\u001b[0m\u001b[1;33m)\u001b[0m\u001b[1;33m\u001b[0m\u001b[1;33m\u001b[0m\u001b[0m\n\u001b[0m\u001b[0;32m     89\u001b[0m \u001b[1;33m\u001b[0m\u001b[0m\n\u001b[0;32m     90\u001b[0m         \u001b[1;31m# Calculate and return the support.\u001b[0m\u001b[1;33m\u001b[0m\u001b[1;33m\u001b[0m\u001b[1;33m\u001b[0m\u001b[0m\n",
      "\u001b[1;31mKeyboardInterrupt\u001b[0m: "
     ]
    }
   ],
   "source": [
    "start = time.time()\n",
    "for item in association_rules:\n",
    "            # first index of the inner list\n",
    "#     print(item)        # Contains base item and add item\n",
    "    if len(item[0]) < 2:\n",
    "        continue\n",
    "            \n",
    "    for k in item[2]:\n",
    "#         print(k)\n",
    "        baseItemList = list(k[0])\n",
    "                # if base item set is empty then go to the next record.\n",
    "        if not baseItemList:\n",
    "            continue\n",
    "\n",
    "                # sort the baseItemList before adding it as a key to the AssociationRules dictionary\n",
    "        baseItemList.sort()\n",
    "        baseItemList_key = tuple(baseItemList)\n",
    "\n",
    "        if baseItemList_key not in AssociationRulesDictionary.keys():\n",
    "            AssociationRulesDictionary[baseItemList_key] = []\n",
    "\n",
    "        AssociationRulesDictionary[baseItemList_key].append((list(k[1]), k[3]))\n",
    "          \n",
    "\n",
    "        # sort the rules in descending order of lift values.\n",
    "for ruleList in AssociationRulesDictionary:\n",
    "    AssociationRulesDictionary[ruleList].sort(key=lambda x: x[1], reverse=True)\n",
    "print(\"--- %s seconds ---\" % (time.time() - start))"
   ]
  },
  {
   "cell_type": "code",
   "execution_count": null,
   "id": "major-objective",
   "metadata": {},
   "outputs": [],
   "source": [
    "# print(AssociationRulesDictionary)"
   ]
  },
  {
   "cell_type": "code",
   "execution_count": null,
   "id": "meaning-tribune",
   "metadata": {},
   "outputs": [],
   "source": [
    "with open('model.txt', 'wb') as handle:\n",
    "    pickle.dump(AssociationRulesDictionary, handle)"
   ]
  },
  {
   "cell_type": "markdown",
   "id": "adapted-control",
   "metadata": {},
   "source": [
    "# From saved models"
   ]
  },
  {
   "cell_type": "code",
   "execution_count": 4,
   "id": "thermal-punch",
   "metadata": {},
   "outputs": [],
   "source": [
    "# ['Seeni Rathu','Kaha  Kudu','Paripipu  No.2 ','Sudu Kekulu  Hal','Miris  Kudu','Thuna Paha KUdu Bedapu']\n",
    "import pickle\n",
    "itemList=['Seeni Rathu','Kaha  Kudu','Paripipu  No.2 ']\n",
    "with open('model.txt', 'rb') as handle:\n",
    "    b = pickle.loads(handle.read())"
   ]
  },
  {
   "cell_type": "code",
   "execution_count": 5,
   "id": "dense-aside",
   "metadata": {},
   "outputs": [
    {
     "name": "stdout",
     "output_type": "stream",
     "text": [
      "('Kaha  Kudu', 'Paripipu  No.2 ', 'Seeni Rathu')\n",
      "Nadu  Hal\n"
     ]
    }
   ],
   "source": [
    "itemList.sort()\n",
    "itemTuple = tuple(itemList)\n",
    "print(itemTuple)\n",
    "if itemTuple not in b.keys():\n",
    "    recommendations=[]\n",
    "\n",
    "recommendations=b[itemTuple][:1]\n",
    "print(recommendations[0][0][0])\n"
   ]
  },
  {
   "cell_type": "code",
   "execution_count": null,
   "id": "technological-practitioner",
   "metadata": {},
   "outputs": [],
   "source": []
  }
 ],
 "metadata": {
  "kernelspec": {
   "display_name": "Python 3 (ipykernel)",
   "language": "python",
   "name": "python3"
  },
  "language_info": {
   "codemirror_mode": {
    "name": "ipython",
    "version": 3
   },
   "file_extension": ".py",
   "mimetype": "text/x-python",
   "name": "python",
   "nbconvert_exporter": "python",
   "pygments_lexer": "ipython3",
   "version": "3.7.13"
  }
 },
 "nbformat": 4,
 "nbformat_minor": 5
}
